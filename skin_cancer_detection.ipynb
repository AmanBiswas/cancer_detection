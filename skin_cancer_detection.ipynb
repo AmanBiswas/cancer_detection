{
  "nbformat": 4,
  "nbformat_minor": 0,
  "metadata": {
    "colab": {
      "provenance": [],
      "mount_file_id": "1DKhfzQ_eXxw4LYLXn1lofiyYcegrIEnz",
      "authorship_tag": "ABX9TyO/55gboeewgHgdD5FR4IK8",
      "include_colab_link": true
    },
    "kernelspec": {
      "name": "python3",
      "display_name": "Python 3"
    },
    "language_info": {
      "name": "python"
    },
    "accelerator": "TPU"
  },
  "cells": [
    {
      "cell_type": "markdown",
      "metadata": {
        "id": "view-in-github",
        "colab_type": "text"
      },
      "source": [
        "<a href=\"https://colab.research.google.com/github/AmanBiswas/cancer_detection/blob/main/Untitled0.ipynb\" target=\"_parent\"><img src=\"https://colab.research.google.com/assets/colab-badge.svg\" alt=\"Open In Colab\"/></a>"
      ]
    },
    {
      "cell_type": "code",
      "execution_count": 7,
      "metadata": {
        "id": "c77TYZKwwTZn"
      },
      "outputs": [],
      "source": [
        "import pandas as pd\n",
        "import numpy as np\n",
        "from PIL import Image\n",
        "from keras.utils import to_categorical\n",
        "from tensorflow.keras.preprocessing.image import load_img, img_to_array\n",
        "import os\n",
        "from tensorflow.keras.preprocessing import image"
      ]
    },
    {
      "cell_type": "code",
      "source": [
        "csv_path=\"/content/drive/MyDrive/Colab Notebooks/cancer cell detection/data/HAM10000_metadata.csv\"\n",
        "image_folder = '/content/drive/MyDrive/Colab Notebooks/cancer cell detection/data/HAM10000_images_part_1'\n",
        "image_folder2 = '/content/drive/MyDrive/Colab Notebooks/cancer cell detection/data/HAM10000_images_part_2'"
      ],
      "metadata": {
        "id": "i1fZx1YcxJ1b"
      },
      "execution_count": 8,
      "outputs": []
    },
    {
      "cell_type": "code",
      "source": [
        "csv_data=pd.read_csv(csv_path)"
      ],
      "metadata": {
        "id": "xAX950bAxc1T"
      },
      "execution_count": 9,
      "outputs": []
    },
    {
      "cell_type": "code",
      "source": [
        "class_to_label = {name: index for index, name in enumerate(csv_data['dx'].unique())}"
      ],
      "metadata": {
        "id": "dupSGz76xuUz"
      },
      "execution_count": 10,
      "outputs": []
    },
    {
      "cell_type": "code",
      "source": [
        "csv_data.head"
      ],
      "metadata": {
        "colab": {
          "base_uri": "https://localhost:8080/"
        },
        "id": "uXuVOLK2xymm",
        "outputId": "f4bf38d9-8767-4e26-82ef-022129f34c02"
      },
      "execution_count": 11,
      "outputs": [
        {
          "output_type": "execute_result",
          "data": {
            "text/plain": [
              "<bound method NDFrame.head of          lesion_id      image_id     dx dx_type   age     sex localization\n",
              "0      HAM_0000118  ISIC_0027419    bkl   histo  80.0    male        scalp\n",
              "1      HAM_0000118  ISIC_0025030    bkl   histo  80.0    male        scalp\n",
              "2      HAM_0002730  ISIC_0026769    bkl   histo  80.0    male        scalp\n",
              "3      HAM_0002730  ISIC_0025661    bkl   histo  80.0    male        scalp\n",
              "4      HAM_0001466  ISIC_0031633    bkl   histo  75.0    male          ear\n",
              "...            ...           ...    ...     ...   ...     ...          ...\n",
              "10010  HAM_0002867  ISIC_0033084  akiec   histo  40.0    male      abdomen\n",
              "10011  HAM_0002867  ISIC_0033550  akiec   histo  40.0    male      abdomen\n",
              "10012  HAM_0002867  ISIC_0033536  akiec   histo  40.0    male      abdomen\n",
              "10013  HAM_0000239  ISIC_0032854  akiec   histo  80.0    male         face\n",
              "10014  HAM_0003521  ISIC_0032258    mel   histo  70.0  female         back\n",
              "\n",
              "[10015 rows x 7 columns]>"
            ]
          },
          "metadata": {},
          "execution_count": 11
        }
      ]
    },
    {
      "cell_type": "code",
      "source": [
        "images = []\n",
        "labels = []\n",
        "\n",
        "for index, row in csv_data.iterrows():\n",
        "    image_path = f\"{image_folder}/{row['image_id']}.jpg\"\n",
        "    if not os.path.exists(image_path):\n",
        "        image_path = f\"{image_folder2}/{row['image_id']}.jpg\"\n",
        "\n",
        "    image = load_img(image_path, target_size=(100, 100))\n",
        "    image = np.array(image)\n",
        "    label = class_to_label[row['dx']]\n",
        "\n",
        "    images.append(image)\n",
        "    labels.append(label)"
      ],
      "metadata": {
        "id": "gLffbOBVx027"
      },
      "execution_count": 12,
      "outputs": []
    },
    {
      "cell_type": "code",
      "source": [
        "images=images[:10000]\n",
        "labels=labels[:10000]\n",
        "# Convert the lists into numpy arrays\n",
        "images = np.array(images)\n",
        "labels = np.array(labels)"
      ],
      "metadata": {
        "id": "1dL4CGesx-um"
      },
      "execution_count": 13,
      "outputs": []
    },
    {
      "cell_type": "code",
      "source": [
        "images = images / 255.0\n"
      ],
      "metadata": {
        "id": "zuOxRKNcydwU"
      },
      "execution_count": 14,
      "outputs": []
    },
    {
      "cell_type": "code",
      "source": [
        "num_classes = len(class_to_label)"
      ],
      "metadata": {
        "id": "v0IZclYCyfps"
      },
      "execution_count": 15,
      "outputs": []
    },
    {
      "cell_type": "code",
      "source": [
        "import random\n",
        "import numpy as np\n",
        "\n",
        "# Assuming you have loaded your dataset into X_train and y_train\n",
        "\n",
        "# Combine X_train and y_train\n",
        "dataset = list(zip(images,labels))\n",
        "\n",
        "# Shuffle the dataset\n",
        "random.shuffle(dataset)\n",
        "\n",
        "# Unpack the shuffled dataset into X_train and y_train\n",
        "images,labels = zip(*dataset)"
      ],
      "metadata": {
        "id": "rAILZNrlynBu"
      },
      "execution_count": 16,
      "outputs": []
    },
    {
      "cell_type": "code",
      "source": [
        "# Convert X_train and y_train back to numpy arrays\n",
        "images = np.array(images)\n",
        "labels = np.array(labels)"
      ],
      "metadata": {
        "id": "EjWX21QLyn12"
      },
      "execution_count": 17,
      "outputs": []
    },
    {
      "cell_type": "code",
      "source": [
        "from sklearn.model_selection import train_test_split\n",
        "# x_train,x_test=images[:9000],images[9000:]\n",
        "# y_train,y_test=labels[:9000],labels[9000:]\n",
        "x_train,x_test,y_train,y_test=train_test_split(images,labels,test_size=0.2)\n",
        "# del images\n",
        "# del labels"
      ],
      "metadata": {
        "id": "KpnKUjp4yt-G"
      },
      "execution_count": 18,
      "outputs": []
    },
    {
      "cell_type": "code",
      "source": [
        "import matplotlib.pyplot as plt\n",
        "import numpy as np\n",
        "import PIL\n",
        "import tensorflow as tf\n",
        "\n",
        "from tensorflow import keras\n",
        "from tensorflow.keras import layers\n",
        "from tensorflow.keras.models import Sequential"
      ],
      "metadata": {
        "id": "Mz4aEC8qyvk_"
      },
      "execution_count": 19,
      "outputs": []
    },
    {
      "cell_type": "code",
      "source": [
        "target_size = (100, 100)\n",
        "num_classes = 7\n",
        "img_height = 100\n",
        "img_width=100\n",
        "model = keras.Sequential([\n",
        "    keras.layers.Conv2D(32, (3, 3), activation='relu', input_shape=(target_size[0], target_size[1], 3)),\n",
        "    keras.layers.MaxPooling2D((2, 2)),\n",
        "    keras.layers.Conv2D(64, (3, 3), activation='relu'),\n",
        "    keras.layers.MaxPooling2D((2, 2)),\n",
        "    keras.layers.Conv2D(128, (3, 3), activation='relu'),\n",
        "    keras.layers.MaxPooling2D((2, 2)),\n",
        "    keras.layers.Flatten(),\n",
        "    keras.layers.Dense(128, activation='relu'),\n",
        "    keras.layers.Dense(num_classes, activation='softmax')\n",
        "])"
      ],
      "metadata": {
        "id": "OA_IEO-dyxhE"
      },
      "execution_count": 20,
      "outputs": []
    },
    {
      "cell_type": "code",
      "source": [
        "model.compile(optimizer='adam',\n",
        "              loss=tf.keras.losses.SparseCategoricalCrossentropy(from_logits=False),\n",
        "              metrics=['accuracy'])"
      ],
      "metadata": {
        "id": "9nV39VPWy1g0"
      },
      "execution_count": 21,
      "outputs": []
    },
    {
      "cell_type": "code",
      "source": [
        "epochs=10\n",
        "model.fit(\n",
        "  x=x_train,y= y_train,\n",
        "    batch_size=100,\n",
        "  epochs=epochs\n",
        ")"
      ],
      "metadata": {
        "colab": {
          "base_uri": "https://localhost:8080/"
        },
        "id": "zn3nPA7Dy3hu",
        "outputId": "e281e56c-d061-49b1-8c7a-6b880e3d28ec"
      },
      "execution_count": 22,
      "outputs": [
        {
          "metadata": {
            "tags": null
          },
          "name": "stdout",
          "output_type": "stream",
          "text": [
            "Epoch 1/10\n",
            "80/80 [==============================] - 187s 2s/step - loss: 1.0614 - accuracy: 0.6620\n",
            "Epoch 2/10\n",
            "80/80 [==============================] - 183s 2s/step - loss: 0.9211 - accuracy: 0.6762\n",
            "Epoch 3/10\n",
            "80/80 [==============================] - 183s 2s/step - loss: 0.8671 - accuracy: 0.6875\n",
            "Epoch 4/10\n",
            "80/80 [==============================] - 186s 2s/step - loss: 0.8109 - accuracy: 0.6969\n",
            "Epoch 5/10\n",
            "80/80 [==============================] - 187s 2s/step - loss: 0.7581 - accuracy: 0.7185\n",
            "Epoch 6/10\n",
            "80/80 [==============================] - 184s 2s/step - loss: 0.7092 - accuracy: 0.7352\n",
            "Epoch 7/10\n",
            "80/80 [==============================] - 181s 2s/step - loss: 0.6817 - accuracy: 0.7462\n",
            "Epoch 8/10\n",
            "80/80 [==============================] - 184s 2s/step - loss: 0.6534 - accuracy: 0.7552\n",
            "Epoch 9/10\n",
            "80/80 [==============================] - 186s 2s/step - loss: 0.6221 - accuracy: 0.7651\n",
            "Epoch 10/10\n",
            "80/80 [==============================] - 179s 2s/step - loss: 0.6000 - accuracy: 0.7785\n"
          ]
        },
        {
          "data": {
            "text/plain": [
              "<keras.callbacks.History at 0x7f520960d390>"
            ]
          },
          "execution_count": 22,
          "metadata": {},
          "output_type": "execute_result"
        }
      ]
    },
    {
      "cell_type": "code",
      "source": [
        "loss,accuracy=model.evaluate(x_test,y_test)\n",
        "accuracy"
      ],
      "metadata": {
        "colab": {
          "base_uri": "https://localhost:8080/"
        },
        "id": "NOsFY2fdy7ws",
        "outputId": "e7c65f3f-fc93-4ab0-9174-989faa338605"
      },
      "execution_count": 23,
      "outputs": [
        {
          "output_type": "stream",
          "name": "stdout",
          "text": [
            "63/63 [==============================] - 14s 226ms/step - loss: 0.7246 - accuracy: 0.7415\n"
          ]
        },
        {
          "output_type": "execute_result",
          "data": {
            "text/plain": [
              "0.7415000200271606"
            ]
          },
          "metadata": {},
          "execution_count": 23
        }
      ]
    },
    {
      "cell_type": "code",
      "source": [
        "model.save('skin_cancer_model.h5')"
      ],
      "metadata": {
        "id": "w-M2oAowy9fq"
      },
      "execution_count": 24,
      "outputs": []
    },
    {
      "cell_type": "code",
      "source": [
        "new_model = keras.models.load_model('skin_cancer_model.h5')"
      ],
      "metadata": {
        "id": "DIcHRQLSzAwA"
      },
      "execution_count": 25,
      "outputs": []
    },
    {
      "cell_type": "code",
      "source": [
        "loss, acc = new_model.evaluate(x_train, y_train, verbose=2)\n",
        "print('Restored model, accuracy: {:5.2f}%'.format(100 * acc))"
      ],
      "metadata": {
        "colab": {
          "base_uri": "https://localhost:8080/"
        },
        "id": "FyupNDgdzFcX",
        "outputId": "4593d359-f9e2-4165-a3a5-bf151a0612c0"
      },
      "execution_count": 26,
      "outputs": [
        {
          "output_type": "stream",
          "name": "stdout",
          "text": [
            "250/250 - 50s - loss: 0.5714 - accuracy: 0.7800 - 50s/epoch - 200ms/step\n",
            "Restored model, accuracy: 78.00%\n"
          ]
        }
      ]
    },
    {
      "cell_type": "code",
      "source": [],
      "metadata": {
        "id": "7zHomMJjzJfr"
      },
      "execution_count": null,
      "outputs": []
    }
  ]
}
